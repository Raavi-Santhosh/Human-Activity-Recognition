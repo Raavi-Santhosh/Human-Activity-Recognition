{
 "cells": [
  {
   "cell_type": "code",
   "execution_count": 1,
   "metadata": {},
   "outputs": [],
   "source": [
    "import pandas as pd\n",
    "import numpy as np"
   ]
  },
  {
   "cell_type": "code",
   "execution_count": 2,
   "metadata": {},
   "outputs": [],
   "source": [
    "ACTIVITIES = {\n",
    "    0: 'WALKING',\n",
    "    1: 'WALKING_UPSTAIRS',\n",
    "    2: 'WALKING_DOWNSTAIRS',\n",
    "    3: 'SITTING',\n",
    "    4: 'STANDING',\n",
    "    5: 'LAYING',\n",
    "}"
   ]
  },
  {
   "cell_type": "code",
   "execution_count": 17,
   "metadata": {},
   "outputs": [],
   "source": [
    "# Utility function to print the confusion matrix\n",
    "def confusion_matrix(Y_true, Y_pred):\n",
    "    Y_true = pd.Series([ACTIVITIES[y] for y in np.argmax(Y_true, axis=1)])\n",
    "    Y_pred = pd.Series([ACTIVITIES[y] for y in np.argmax(Y_pred, axis=1)])\n",
    "\n",
    "    return pd.crosstab(Y_true, Y_pred, rownames=['True'], colnames=['Pred'])"
   ]
  },
  {
   "cell_type": "markdown",
   "metadata": {},
   "source": [
    "### Data Reading"
   ]
  },
  {
   "cell_type": "code",
   "execution_count": 4,
   "metadata": {},
   "outputs": [],
   "source": [
    "SIGNALS = [\n",
    "    \"body_acc_x\",\n",
    "    \"body_acc_y\",\n",
    "    \"body_acc_z\",\n",
    "    \"body_gyro_x\",\n",
    "    \"body_gyro_y\",\n",
    "    \"body_gyro_z\",\n",
    "    \"total_acc_x\",\n",
    "    \"total_acc_y\",\n",
    "    \"total_acc_z\"\n",
    "]"
   ]
  },
  {
   "cell_type": "code",
   "execution_count": 30,
   "metadata": {},
   "outputs": [],
   "source": [
    "# function to read the data from csv file\n",
    "def _read_csv(filename):\n",
    "    return pd.read_csv(filename, delim_whitespace=True, header=None)\n",
    "\n",
    "# function to load the load\n",
    "def load_signals(subset):\n",
    "    signals_data = []\n",
    "\n",
    "    for signal in SIGNALS:\n",
    "        filename = f'UCI HAR Dataset/{subset}/Inertial Signals/{signal}_{subset}.txt'\n",
    "        signals_data.append(_read_csv(filename).values)\n",
    "\n",
    "    return np.transpose(signals_data, (1, 2, 0))"
   ]
  },
  {
   "cell_type": "code",
   "execution_count": 31,
   "metadata": {},
   "outputs": [],
   "source": [
    "def load_y(subset):\n",
    "    filename = f'UCI HAR Dataset/{subset}/y_{subset}.txt'\n",
    "    y = _read_csv(filename)[0]\n",
    "\n",
    "    return pd.get_dummies(y).values"
   ]
  },
  {
   "cell_type": "code",
   "execution_count": 15,
   "metadata": {},
   "outputs": [],
   "source": [
    "def load_data():\n",
    "    X_train, X_test = load_signals('train'), load_signals('test')\n",
    "    y_train, y_test = load_y('train'), load_y('test')\n",
    "\n",
    "    return X_train, X_test, y_train, y_test"
   ]
  },
  {
   "cell_type": "code",
   "execution_count": 9,
   "metadata": {},
   "outputs": [
    {
     "name": "stderr",
     "output_type": "stream",
     "text": [
      "Using TensorFlow backend.\n"
     ]
    }
   ],
   "source": [
    "# Importing libraries\n",
    "from keras.models import Sequential\n",
    "from keras.layers import LSTM\n",
    "from keras.layers.core import Dense, Dropout"
   ]
  },
  {
   "cell_type": "code",
   "execution_count": 10,
   "metadata": {},
   "outputs": [],
   "source": [
    "# Initializing parameters\n",
    "epochs = 30\n",
    "batch_size = 16\n",
    "n_hidden = 32"
   ]
  },
  {
   "cell_type": "code",
   "execution_count": 11,
   "metadata": {},
   "outputs": [],
   "source": [
    "# Utility function to count the number of classes\n",
    "def _count_classes(y):\n",
    "    return len(set([tuple(category) for category in y]))"
   ]
  },
  {
   "cell_type": "code",
   "execution_count": 32,
   "metadata": {},
   "outputs": [],
   "source": [
    "# Loading the train and test data\n",
    "X_train, X_test, Y_train, Y_test = load_data()"
   ]
  },
  {
   "cell_type": "code",
   "execution_count": 33,
   "metadata": {},
   "outputs": [
    {
     "name": "stdout",
     "output_type": "stream",
     "text": [
      "128\n",
      "9\n",
      "7352\n"
     ]
    }
   ],
   "source": [
    "timesteps = len(X_train[0])\n",
    "input_dim = len(X_train[0][0])\n",
    "n_classes = _count_classes(Y_train)\n",
    "\n",
    "print(timesteps)\n",
    "print(input_dim)\n",
    "print(len(X_train))"
   ]
  },
  {
   "cell_type": "markdown",
   "metadata": {},
   "source": [
    "- Defining the Architecture of LSTM"
   ]
  },
  {
   "cell_type": "code",
   "execution_count": 34,
   "metadata": {},
   "outputs": [
    {
     "name": "stdout",
     "output_type": "stream",
     "text": [
      "Model: \"sequential_1\"\n",
      "_________________________________________________________________\n",
      "Layer (type)                 Output Shape              Param #   \n",
      "=================================================================\n",
      "lstm_1 (LSTM)                (None, 32)                5376      \n",
      "_________________________________________________________________\n",
      "dropout_1 (Dropout)          (None, 32)                0         \n",
      "_________________________________________________________________\n",
      "dense_1 (Dense)              (None, 6)                 198       \n",
      "=================================================================\n",
      "Total params: 5,574\n",
      "Trainable params: 5,574\n",
      "Non-trainable params: 0\n",
      "_________________________________________________________________\n"
     ]
    }
   ],
   "source": [
    "# Initiliazing the sequential model\n",
    "model = Sequential()\n",
    "# Configuring the parameters\n",
    "model.add(LSTM(n_hidden, input_shape=(timesteps, input_dim)))\n",
    "# Adding a dropout layer\n",
    "model.add(Dropout(0.5))\n",
    "# Adding a dense output layer with sigmoid activation\n",
    "model.add(Dense(n_classes, activation='sigmoid'))\n",
    "model.summary()"
   ]
  },
  {
   "cell_type": "code",
   "execution_count": 35,
   "metadata": {},
   "outputs": [],
   "source": [
    "# Compiling the model\n",
    "model.compile(loss='categorical_crossentropy',\n",
    "              optimizer='rmsprop',\n",
    "              metrics=['accuracy'])"
   ]
  },
  {
   "cell_type": "code",
   "execution_count": 36,
   "metadata": {},
   "outputs": [
    {
     "name": "stdout",
     "output_type": "stream",
     "text": [
      "Train on 7352 samples, validate on 2947 samples\n",
      "Epoch 1/30\n",
      "7352/7352 [==============================] - 17s 2ms/step - loss: 1.3267 - accuracy: 0.4525 - val_loss: 1.1931 - val_accuracy: 0.4394\n",
      "Epoch 2/30\n",
      "7352/7352 [==============================] - 16s 2ms/step - loss: 1.0063 - accuracy: 0.5554 - val_loss: 0.9284 - val_accuracy: 0.5728\n",
      "Epoch 3/30\n",
      "7352/7352 [==============================] - 16s 2ms/step - loss: 0.7935 - accuracy: 0.6432 - val_loss: 0.8548 - val_accuracy: 0.5891\n",
      "Epoch 4/30\n",
      "7352/7352 [==============================] - 16s 2ms/step - loss: 0.6878 - accuracy: 0.6647 - val_loss: 0.6727 - val_accuracy: 0.6400\n",
      "Epoch 5/30\n",
      "7352/7352 [==============================] - 16s 2ms/step - loss: 0.6302 - accuracy: 0.7142 - val_loss: 0.6955 - val_accuracy: 0.7207\n",
      "Epoch 6/30\n",
      "7352/7352 [==============================] - 16s 2ms/step - loss: 0.5577 - accuracy: 0.7896 - val_loss: 0.5817 - val_accuracy: 0.7906\n",
      "Epoch 7/30\n",
      "7352/7352 [==============================] - 16s 2ms/step - loss: 0.4552 - accuracy: 0.8570 - val_loss: 0.5219 - val_accuracy: 0.8266\n",
      "Epoch 8/30\n",
      "7352/7352 [==============================] - 16s 2ms/step - loss: 0.3826 - accuracy: 0.8830 - val_loss: 0.4599 - val_accuracy: 0.8595\n",
      "Epoch 9/30\n",
      "7352/7352 [==============================] - 17s 2ms/step - loss: 0.3214 - accuracy: 0.9045 - val_loss: 0.4985 - val_accuracy: 0.8565\n",
      "Epoch 10/30\n",
      "7352/7352 [==============================] - 16s 2ms/step - loss: 0.2907 - accuracy: 0.9108 - val_loss: 0.6182 - val_accuracy: 0.8331\n",
      "Epoch 11/30\n",
      "7352/7352 [==============================] - 15s 2ms/step - loss: 0.2748 - accuracy: 0.9180 - val_loss: 0.4628 - val_accuracy: 0.8785\n",
      "Epoch 12/30\n",
      "7352/7352 [==============================] - 15s 2ms/step - loss: 0.2332 - accuracy: 0.9297 - val_loss: 0.3723 - val_accuracy: 0.8839\n",
      "Epoch 13/30\n",
      "7352/7352 [==============================] - 15s 2ms/step - loss: 0.2292 - accuracy: 0.9295 - val_loss: 0.4262 - val_accuracy: 0.8799\n",
      "Epoch 14/30\n",
      "7352/7352 [==============================] - 15s 2ms/step - loss: 0.2078 - accuracy: 0.9313 - val_loss: 0.3478 - val_accuracy: 0.8887\n",
      "Epoch 15/30\n",
      "7352/7352 [==============================] - 16s 2ms/step - loss: 0.2151 - accuracy: 0.9346 - val_loss: 0.3598 - val_accuracy: 0.9057\n",
      "Epoch 16/30\n",
      "7352/7352 [==============================] - 17s 2ms/step - loss: 0.1952 - accuracy: 0.9380 - val_loss: 0.7283 - val_accuracy: 0.8446\n",
      "Epoch 17/30\n",
      "7352/7352 [==============================] - 16s 2ms/step - loss: 0.1864 - accuracy: 0.9382 - val_loss: 0.4134 - val_accuracy: 0.8911\n",
      "Epoch 18/30\n",
      "7352/7352 [==============================] - 17s 2ms/step - loss: 0.1898 - accuracy: 0.9425 - val_loss: 0.3869 - val_accuracy: 0.8948\n",
      "Epoch 19/30\n",
      "7352/7352 [==============================] - 17s 2ms/step - loss: 0.1785 - accuracy: 0.9430 - val_loss: 0.4074 - val_accuracy: 0.9030\n",
      "Epoch 20/30\n",
      "7352/7352 [==============================] - 17s 2ms/step - loss: 0.1942 - accuracy: 0.9380 - val_loss: 0.3816 - val_accuracy: 0.8935\n",
      "Epoch 21/30\n",
      "7352/7352 [==============================] - 17s 2ms/step - loss: 0.1973 - accuracy: 0.9391 - val_loss: 0.4584 - val_accuracy: 0.8873\n",
      "Epoch 22/30\n",
      "7352/7352 [==============================] - 16s 2ms/step - loss: 0.1947 - accuracy: 0.9434 - val_loss: 0.4294 - val_accuracy: 0.8982\n",
      "Epoch 23/30\n",
      "7352/7352 [==============================] - 16s 2ms/step - loss: 0.1879 - accuracy: 0.9408 - val_loss: 0.3856 - val_accuracy: 0.8955\n",
      "Epoch 24/30\n",
      "7352/7352 [==============================] - 16s 2ms/step - loss: 0.1673 - accuracy: 0.9445 - val_loss: 0.3441 - val_accuracy: 0.9043\n",
      "Epoch 25/30\n",
      "7352/7352 [==============================] - 16s 2ms/step - loss: 0.1794 - accuracy: 0.9433 - val_loss: 0.3654 - val_accuracy: 0.9023\n",
      "Epoch 26/30\n",
      "7352/7352 [==============================] - 16s 2ms/step - loss: 0.1835 - accuracy: 0.9393 - val_loss: 0.3599 - val_accuracy: 0.9101\n",
      "Epoch 27/30\n",
      "7352/7352 [==============================] - 16s 2ms/step - loss: 0.2070 - accuracy: 0.9389 - val_loss: 0.6123 - val_accuracy: 0.8907\n",
      "Epoch 28/30\n",
      "7352/7352 [==============================] - 16s 2ms/step - loss: 0.2058 - accuracy: 0.9426 - val_loss: 0.3662 - val_accuracy: 0.9192\n",
      "Epoch 29/30\n",
      "7352/7352 [==============================] - 16s 2ms/step - loss: 0.1650 - accuracy: 0.9470 - val_loss: 0.6393 - val_accuracy: 0.8856\n",
      "Epoch 30/30\n",
      "7352/7352 [==============================] - 16s 2ms/step - loss: 0.1695 - accuracy: 0.9453 - val_loss: 0.5955 - val_accuracy: 0.8972\n"
     ]
    },
    {
     "data": {
      "text/plain": [
       "<keras.callbacks.callbacks.History at 0x6363e6990>"
      ]
     },
     "execution_count": 36,
     "metadata": {},
     "output_type": "execute_result"
    }
   ],
   "source": [
    "# Training the model\n",
    "model.fit(X_train,\n",
    "          Y_train,\n",
    "          batch_size=batch_size,\n",
    "          validation_data=(X_test, Y_test),\n",
    "          epochs=epochs)"
   ]
  },
  {
   "cell_type": "code",
   "execution_count": 37,
   "metadata": {},
   "outputs": [
    {
     "name": "stdout",
     "output_type": "stream",
     "text": [
      "Pred                LAYING  SITTING  STANDING  WALKING  WALKING_DOWNSTAIRS  \\\n",
      "True                                                                         \n",
      "LAYING                 519        0        18        0                   0   \n",
      "SITTING                  0      379       110        0                   2   \n",
      "STANDING                 0       62       464        6                   0   \n",
      "WALKING                  0        0         0      459                  37   \n",
      "WALKING_DOWNSTAIRS       0        0         0        3                 414   \n",
      "WALKING_UPSTAIRS         0        0         0       34                  28   \n",
      "\n",
      "Pred                WALKING_UPSTAIRS  \n",
      "True                                  \n",
      "LAYING                             0  \n",
      "SITTING                            0  \n",
      "STANDING                           0  \n",
      "WALKING                            0  \n",
      "WALKING_DOWNSTAIRS                 3  \n",
      "WALKING_UPSTAIRS                 409  \n"
     ]
    }
   ],
   "source": [
    "# Confusion Matrix\n",
    "print(confusion_matrix(Y_test, model.predict(X_test)))"
   ]
  },
  {
   "cell_type": "code",
   "execution_count": 38,
   "metadata": {},
   "outputs": [
    {
     "name": "stdout",
     "output_type": "stream",
     "text": [
      "2947/2947 [==============================] - 1s 234us/step\n"
     ]
    }
   ],
   "source": [
    "score = model.evaluate(X_test, Y_test)"
   ]
  },
  {
   "cell_type": "code",
   "execution_count": 39,
   "metadata": {},
   "outputs": [
    {
     "data": {
      "text/plain": [
       "[0.5955118426720399, 0.8971835970878601]"
      ]
     },
     "execution_count": 39,
     "metadata": {},
     "output_type": "execute_result"
    }
   ],
   "source": [
    "score"
   ]
  },
  {
   "cell_type": "markdown",
   "metadata": {},
   "source": [
    "Due to less data sample LSTM model is less performed"
   ]
  },
  {
   "cell_type": "code",
   "execution_count": 42,
   "metadata": {},
   "outputs": [],
   "source": [
    "model.save(\"HR LSTM.h5\")"
   ]
  }
 ],
 "metadata": {
  "kernelspec": {
   "display_name": "Python 3",
   "language": "python",
   "name": "python3"
  },
  "language_info": {
   "codemirror_mode": {
    "name": "ipython",
    "version": 3
   },
   "file_extension": ".py",
   "mimetype": "text/x-python",
   "name": "python",
   "nbconvert_exporter": "python",
   "pygments_lexer": "ipython3",
   "version": "3.7.6"
  },
  "varInspector": {
   "cols": {
    "lenName": 16,
    "lenType": 16,
    "lenVar": 40
   },
   "kernels_config": {
    "python": {
     "delete_cmd_postfix": "",
     "delete_cmd_prefix": "del ",
     "library": "var_list.py",
     "varRefreshCmd": "print(var_dic_list())"
    },
    "r": {
     "delete_cmd_postfix": ") ",
     "delete_cmd_prefix": "rm(",
     "library": "var_list.r",
     "varRefreshCmd": "cat(var_dic_list()) "
    }
   },
   "types_to_exclude": [
    "module",
    "function",
    "builtin_function_or_method",
    "instance",
    "_Feature"
   ],
   "window_display": false
  }
 },
 "nbformat": 4,
 "nbformat_minor": 2
}
